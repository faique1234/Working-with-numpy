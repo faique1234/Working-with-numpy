{
  "nbformat": 4,
  "nbformat_minor": 0,
  "metadata": {
    "colab": {
      "provenance": [],
      "authorship_tag": "ABX9TyM3FvQnu3AvweGt06wisQqc",
      "include_colab_link": true
    },
    "kernelspec": {
      "name": "python3",
      "display_name": "Python 3"
    },
    "language_info": {
      "name": "python"
    }
  },
  "cells": [
    {
      "cell_type": "markdown",
      "metadata": {
        "id": "view-in-github",
        "colab_type": "text"
      },
      "source": [
        "<a href=\"https://colab.research.google.com/github/faique1234/Working-with-numpy/blob/main/Working_with_numpy.ipynb\" target=\"_parent\"><img src=\"https://colab.research.google.com/assets/colab-badge.svg\" alt=\"Open In Colab\"/></a>"
      ]
    },
    {
      "cell_type": "code",
      "execution_count": null,
      "metadata": {
        "id": "bBd9U13dZHdl"
      },
      "outputs": [],
      "source": []
    },
    {
      "cell_type": "markdown",
      "metadata": {
        "id": "c4eda0c4"
      },
      "source": [
        "## Introduction to numpy\n",
        "\n",
        "### Subtask:\n",
        "Briefly explain what NumPy is and its importance in numerical computing in Python.\n"
      ]
    },
    {
      "cell_type": "markdown",
      "metadata": {
        "id": "b2fa9e5a"
      },
      "source": [
        "**Reasoning**:\n",
        "Add a markdown cell at the beginning of the notebook to provide a brief explanation of NumPy and its importance in numerical computing.\n",
        "\n"
      ]
    },
    {
      "cell_type": "code",
      "metadata": {
        "colab": {
          "base_uri": "https://localhost:8080/"
        },
        "id": "6132ca3e",
        "outputId": "3ad7ccc3-b30e-4689-ce98-f37219b6a782"
      },
      "source": [
        "import numpy as np\n",
        "\n",
        "# Create a NumPy array from a Python list\n",
        "array_from_list = np.array([1, 2, 3, 4, 5])\n",
        "\n",
        "# Create a NumPy array of zeros\n",
        "zeros_array = np.zeros((3, 4))\n",
        "\n",
        "# Create a NumPy array of ones\n",
        "ones_array = np.ones((2, 3))\n",
        "\n",
        "# Create a NumPy array using arange\n",
        "range_array = np.arange(10)\n",
        "\n",
        "# Create a NumPy array using linspace\n",
        "linspace_array = np.linspace(0, 10, 5)\n",
        "\n",
        "# Print each created array\n",
        "print(\"Array from list:\")\n",
        "print(array_from_list)\n",
        "\n",
        "print(\"\\nZeros array:\")\n",
        "print(zeros_array)\n",
        "\n",
        "print(\"\\nOnes array:\")\n",
        "print(ones_array)\n",
        "\n",
        "print(\"\\nRange array:\")\n",
        "print(range_array)\n",
        "\n",
        "print(\"\\nLinspace array:\")\n",
        "print(linspace_array)"
      ],
      "execution_count": 2,
      "outputs": [
        {
          "output_type": "stream",
          "name": "stdout",
          "text": [
            "Array from list:\n",
            "[1 2 3 4 5]\n",
            "\n",
            "Zeros array:\n",
            "[[0. 0. 0. 0.]\n",
            " [0. 0. 0. 0.]\n",
            " [0. 0. 0. 0.]]\n",
            "\n",
            "Ones array:\n",
            "[[1. 1. 1.]\n",
            " [1. 1. 1.]]\n",
            "\n",
            "Range array:\n",
            "[0 1 2 3 4 5 6 7 8 9]\n",
            "\n",
            "Linspace array:\n",
            "[ 0.   2.5  5.   7.5 10. ]\n"
          ]
        }
      ]
    },
    {
      "cell_type": "markdown",
      "metadata": {
        "id": "2ca809c8"
      },
      "source": [
        "## Array attributes\n",
        "\n",
        "### Subtask:\n",
        "Show how to access important attributes of arrays (e.g., shape, dtype, size, ndim).\n"
      ]
    },
    {
      "cell_type": "markdown",
      "metadata": {
        "id": "b23de528"
      },
      "source": [
        "**Reasoning**:\n",
        "Define a sample NumPy array and then access and print its shape, dtype, size, and ndim attributes as requested by the subtask.\n",
        "\n"
      ]
    },
    {
      "cell_type": "code",
      "metadata": {
        "colab": {
          "base_uri": "https://localhost:8080/"
        },
        "id": "2b531f3d",
        "outputId": "852f0b60-3c2c-47b8-dd99-fd62e029e5f7"
      },
      "source": [
        "# Define a sample NumPy array\n",
        "sample_array = np.array([[1, 2, 3], [4, 5, 6]])\n",
        "\n",
        "# Access and print the shape attribute\n",
        "print(\"Shape of the array:\", sample_array.shape)\n",
        "\n",
        "# Access and print the dtype attribute\n",
        "print(\"Data type of the array:\", sample_array.dtype)\n",
        "\n",
        "# Access and print the size attribute\n",
        "print(\"Total number of elements in the array:\", sample_array.size)\n",
        "\n",
        "# Access and print the ndim attribute\n",
        "print(\"Number of dimensions of the array:\", sample_array.ndim)"
      ],
      "execution_count": 3,
      "outputs": [
        {
          "output_type": "stream",
          "name": "stdout",
          "text": [
            "Shape of the array: (2, 3)\n",
            "Data type of the array: int64\n",
            "Total number of elements in the array: 6\n",
            "Number of dimensions of the array: 2\n"
          ]
        }
      ]
    },
    {
      "cell_type": "markdown",
      "metadata": {
        "id": "83df1108"
      },
      "source": [
        "## Array indexing and slicing\n",
        "\n",
        "### Subtask:\n",
        "Illustrate how to access and modify elements or subarrays using indexing and slicing.\n"
      ]
    },
    {
      "cell_type": "markdown",
      "metadata": {
        "id": "f8a41c1e"
      },
      "source": [
        "**Reasoning**:\n",
        "The subtask requires demonstrating array indexing and slicing, including accessing and modifying elements and subarrays. This can be done in a single code block by creating a sample array and then performing the specified operations sequentially, printing the array after each step.\n",
        "\n"
      ]
    },
    {
      "cell_type": "code",
      "metadata": {
        "colab": {
          "base_uri": "https://localhost:8080/"
        },
        "id": "7f02b11d",
        "outputId": "005c0fa5-9ab2-4490-b1fd-01b493935a69"
      },
      "source": [
        "# Create a sample 2D NumPy array (e.g., a 3x3 array).\n",
        "sample_array = np.array([[10, 11, 12],\n",
        "                         [13, 14, 15],\n",
        "                         [16, 17, 18]])\n",
        "print(\"Original array:\")\n",
        "print(sample_array)\n",
        "print(\"-\" * 20)\n",
        "\n",
        "# Demonstrate accessing a single element using integer indexing.\n",
        "element = sample_array[1, 2] # Accessing element at row 1, column 2 (value 15)\n",
        "print(\"Accessing single element at [1, 2]:\", element)\n",
        "print(\"-\" * 20)\n",
        "\n",
        "# Demonstrate accessing a row using slicing.\n",
        "row = sample_array[0, :] # Accessing the first row\n",
        "print(\"Accessing the first row using slicing sample_array[0, :]:\")\n",
        "print(row)\n",
        "print(\"-\" * 20)\n",
        "\n",
        "# Demonstrate accessing a column using slicing.\n",
        "column = sample_array[:, 1] # Accessing the second column\n",
        "print(\"Accessing the second column using slicing sample_array[:, 1]:\")\n",
        "print(column)\n",
        "print(\"-\" * 20)\n",
        "\n",
        "# Demonstrate accessing a subarray using slicing.\n",
        "subarray = sample_array[0:2, 1:3] # Accessing a 2x2 subarray\n",
        "print(\"Accessing a subarray using slicing sample_array[0:2, 1:3]:\")\n",
        "print(subarray)\n",
        "print(\"-\" * 20)\n",
        "\n",
        "# Demonstrate modifying an element using indexing.\n",
        "sample_array[2, 0] = 99 # Modify the element at row 2, column 0\n",
        "print(\"Array after modifying element at [2, 0] to 99:\")\n",
        "print(sample_array)\n",
        "print(\"-\" * 20)\n",
        "\n",
        "# Demonstrate modifying a subarray using slicing.\n",
        "sample_array[0:2, 0:2] = [[100, 101], [102, 103]] # Modify the top-left 2x2 subarray\n",
        "print(\"Array after modifying a subarray using slicing sample_array[0:2, 0:2]:\")\n",
        "print(sample_array)\n",
        "print(\"-\" * 20)"
      ],
      "execution_count": 4,
      "outputs": [
        {
          "output_type": "stream",
          "name": "stdout",
          "text": [
            "Original array:\n",
            "[[10 11 12]\n",
            " [13 14 15]\n",
            " [16 17 18]]\n",
            "--------------------\n",
            "Accessing single element at [1, 2]: 15\n",
            "--------------------\n",
            "Accessing the first row using slicing sample_array[0, :]:\n",
            "[10 11 12]\n",
            "--------------------\n",
            "Accessing the second column using slicing sample_array[:, 1]:\n",
            "[11 14 17]\n",
            "--------------------\n",
            "Accessing a subarray using slicing sample_array[0:2, 1:3]:\n",
            "[[11 12]\n",
            " [14 15]]\n",
            "--------------------\n",
            "Array after modifying element at [2, 0] to 99:\n",
            "[[10 11 12]\n",
            " [13 14 15]\n",
            " [99 17 18]]\n",
            "--------------------\n",
            "Array after modifying a subarray using slicing sample_array[0:2, 0:2]:\n",
            "[[100 101  12]\n",
            " [102 103  15]\n",
            " [ 99  17  18]]\n",
            "--------------------\n"
          ]
        }
      ]
    },
    {
      "cell_type": "markdown",
      "metadata": {
        "id": "ff0b368b"
      },
      "source": [
        "## Array operations\n",
        "\n",
        "### Subtask:\n",
        "Demonstrate common mathematical and logical operations on arrays (e.g., arithmetic operations, broadcasting, universal functions).\n"
      ]
    },
    {
      "cell_type": "markdown",
      "metadata": {
        "id": "51fb7fa4"
      },
      "source": [
        "**Reasoning**:\n",
        "The subtask requires demonstrating mathematical and logical operations on arrays. This involves creating sample arrays, performing arithmetic and logical operations, and demonstrating broadcasting and universal functions. All these steps can be included in a single code block.\n",
        "\n"
      ]
    },
    {
      "cell_type": "code",
      "metadata": {
        "colab": {
          "base_uri": "https://localhost:8080/"
        },
        "id": "92666da9",
        "outputId": "d931823d-5602-46eb-95ff-4849981913d1"
      },
      "source": [
        "# 1. Create two sample NumPy arrays of compatible shapes for arithmetic operations.\n",
        "array1 = np.array([[1, 2], [3, 4]])\n",
        "array2 = np.array([[5, 6], [7, 8]])\n",
        "print(\"Array 1:\")\n",
        "print(array1)\n",
        "print(\"\\nArray 2:\")\n",
        "print(array2)\n",
        "print(\"-\" * 20)\n",
        "\n",
        "# 2. Perform and print the results of basic arithmetic operations.\n",
        "print(\"Addition (array1 + array2):\")\n",
        "print(array1 + array2)\n",
        "print(\"\\nSubtraction (array1 - array2):\")\n",
        "print(array1 - array2)\n",
        "print(\"\\nMultiplication (array1 * array2):\")\n",
        "print(array1 * array2) # Element-wise multiplication\n",
        "print(\"\\nDivision (array1 / array2):\")\n",
        "print(array1 / array2)\n",
        "print(\"-\" * 20)\n",
        "\n",
        "# 3. Create a NumPy array and a scalar value.\n",
        "array_for_broadcasting = np.array([[10, 20, 30], [40, 50, 60]])\n",
        "scalar_value = 5\n",
        "print(\"Array for broadcasting:\")\n",
        "print(array_for_broadcasting)\n",
        "print(\"\\nScalar value:\", scalar_value)\n",
        "print(\"-\" * 20)\n",
        "\n",
        "# 4. Demonstrate and print the results of broadcasting operations.\n",
        "print(\"Broadcasting (array_for_broadcasting + scalar_value):\")\n",
        "print(array_for_broadcasting + scalar_value)\n",
        "print(\"-\" * 20)\n",
        "\n",
        "# 5. Create a NumPy array and demonstrate the use of a universal function.\n",
        "array_for_ufunc = np.array([1, 4, 9, 16])\n",
        "print(\"Array for universal function:\")\n",
        "print(array_for_ufunc)\n",
        "print(\"\\nApplying np.sqrt():\")\n",
        "print(np.sqrt(array_for_ufunc))\n",
        "print(\"-\" * 20)\n",
        "\n",
        "# 6. Create two NumPy arrays for logical operations.\n",
        "array_logical1 = np.array([True, False, True, False])\n",
        "array_logical2 = np.array([True, True, False, False])\n",
        "array_comparison = np.array([10, 20, 30, 40])\n",
        "scalar_comparison = 25\n",
        "print(\"Logical Array 1:\", array_logical1)\n",
        "print(\"Logical Array 2:\", array_logical2)\n",
        "print(\"Comparison Array:\", array_comparison)\n",
        "print(\"Comparison Scalar:\", scalar_comparison)\n",
        "print(\"-\" * 20)\n",
        "\n",
        "\n",
        "# 7. Perform and print the results of logical operations.\n",
        "print(\"Logical AND (array_logical1 & array_logical2):\")\n",
        "print(array_logical1 & array_logical2)\n",
        "print(\"\\nLogical OR (array_logical1 | array_logical2):\")\n",
        "print(array_logical1 | array_logical2)\n",
        "print(\"\\nComparison (array_comparison > scalar_comparison):\")\n",
        "print(array_comparison > scalar_comparison)\n",
        "print(\"\\nComparison (array_comparison == 20):\")\n",
        "print(array_comparison == 20)"
      ],
      "execution_count": 5,
      "outputs": [
        {
          "output_type": "stream",
          "name": "stdout",
          "text": [
            "Array 1:\n",
            "[[1 2]\n",
            " [3 4]]\n",
            "\n",
            "Array 2:\n",
            "[[5 6]\n",
            " [7 8]]\n",
            "--------------------\n",
            "Addition (array1 + array2):\n",
            "[[ 6  8]\n",
            " [10 12]]\n",
            "\n",
            "Subtraction (array1 - array2):\n",
            "[[-4 -4]\n",
            " [-4 -4]]\n",
            "\n",
            "Multiplication (array1 * array2):\n",
            "[[ 5 12]\n",
            " [21 32]]\n",
            "\n",
            "Division (array1 / array2):\n",
            "[[0.2        0.33333333]\n",
            " [0.42857143 0.5       ]]\n",
            "--------------------\n",
            "Array for broadcasting:\n",
            "[[10 20 30]\n",
            " [40 50 60]]\n",
            "\n",
            "Scalar value: 5\n",
            "--------------------\n",
            "Broadcasting (array_for_broadcasting + scalar_value):\n",
            "[[15 25 35]\n",
            " [45 55 65]]\n",
            "--------------------\n",
            "Array for universal function:\n",
            "[ 1  4  9 16]\n",
            "\n",
            "Applying np.sqrt():\n",
            "[1. 2. 3. 4.]\n",
            "--------------------\n",
            "Logical Array 1: [ True False  True False]\n",
            "Logical Array 2: [ True  True False False]\n",
            "Comparison Array: [10 20 30 40]\n",
            "Comparison Scalar: 25\n",
            "--------------------\n",
            "Logical AND (array_logical1 & array_logical2):\n",
            "[ True False False False]\n",
            "\n",
            "Logical OR (array_logical1 | array_logical2):\n",
            "[ True  True  True False]\n",
            "\n",
            "Comparison (array_comparison > scalar_comparison):\n",
            "[False False  True  True]\n",
            "\n",
            "Comparison (array_comparison == 20):\n",
            "[False  True False False]\n"
          ]
        }
      ]
    },
    {
      "cell_type": "markdown",
      "metadata": {
        "id": "8f316a83"
      },
      "source": [
        "## Array manipulation\n",
        "\n",
        "### Subtask:\n",
        "Show how to reshape, stack, split, and transpose arrays.\n"
      ]
    },
    {
      "cell_type": "markdown",
      "metadata": {
        "id": "792dcefe"
      },
      "source": [
        "**Reasoning**:\n",
        "The subtask requires demonstrating reshape, stack, split, and transpose operations. This involves creating arrays, performing these operations, and printing the results, which can all be done within a single code block.\n",
        "\n"
      ]
    },
    {
      "cell_type": "code",
      "metadata": {
        "colab": {
          "base_uri": "https://localhost:8080/"
        },
        "id": "7c03d096",
        "outputId": "74e0eb10-0173-4162-ed67-9c85725b6420"
      },
      "source": [
        "# 1. Create a sample 1D NumPy array.\n",
        "array_1d = np.arange(12)\n",
        "print(\"Original 1D array:\")\n",
        "print(array_1d)\n",
        "print(\"-\" * 20)\n",
        "\n",
        "# 2. Reshape the 1D array into a 2D array and print the result.\n",
        "# Reshape into a 3x4 array\n",
        "array_2d_reshaped = array_1d.reshape((3, 4))\n",
        "print(\"Reshaped 2D array (3x4):\")\n",
        "print(array_2d_reshaped)\n",
        "print(\"-\" * 20)\n",
        "\n",
        "# 3. Create two sample 2D NumPy arrays of compatible shapes for stacking.\n",
        "array_stack1 = np.array([[1, 2, 3], [4, 5, 6]])\n",
        "array_stack2 = np.array([[7, 8, 9], [10, 11, 12]])\n",
        "print(\"Array for stacking 1:\")\n",
        "print(array_stack1)\n",
        "print(\"\\nArray for stacking 2:\")\n",
        "print(array_stack2)\n",
        "print(\"-\" * 20)\n",
        "\n",
        "# 4. Vertically stack the two 2D arrays and print the result.\n",
        "vstacked_array = np.vstack((array_stack1, array_stack2))\n",
        "print(\"Vertically stacked array:\")\n",
        "print(vstacked_array)\n",
        "print(\"-\" * 20)\n",
        "\n",
        "# 5. Horizontally stack the two 2D arrays and print the result.\n",
        "hstacked_array = np.hstack((array_stack1, array_stack2))\n",
        "print(\"Horizontally stacked array:\")\n",
        "print(hstacked_array)\n",
        "print(\"-\" * 20)\n",
        "\n",
        "# 6. Create a sample 1D or 2D NumPy array to demonstrate splitting.\n",
        "array_to_split = np.arange(16).reshape((4, 4))\n",
        "print(\"Array to split:\")\n",
        "print(array_to_split)\n",
        "print(\"-\" * 20)\n",
        "\n",
        "# 7. Split the array into multiple smaller arrays (e.g., into 3 equal parts or at specific indices) and print the resulting arrays.\n",
        "# Split into 4 equal parts along rows\n",
        "split_arrays_rows = np.vsplit(array_to_split, 4)\n",
        "print(\"Array split into 4 parts along rows:\")\n",
        "for i, arr in enumerate(split_arrays_rows):\n",
        "    print(f\"Part {i+1}:\\n{arr}\")\n",
        "print(\"-\" * 20)\n",
        "\n",
        "# Split into 2 equal parts along columns\n",
        "split_arrays_cols = np.hsplit(array_to_split, 2)\n",
        "print(\"Array split into 2 parts along columns:\")\n",
        "for i, arr in enumerate(split_arrays_cols):\n",
        "    print(f\"Part {i+1}:\\n{arr}\")\n",
        "print(\"-\" * 20)\n",
        "\n",
        "\n",
        "# 8. Create a sample 2D NumPy array to demonstrate transposing.\n",
        "array_to_transpose = np.array([[1, 2, 3], [4, 5, 6]])\n",
        "print(\"Array to transpose:\")\n",
        "print(array_to_transpose)\n",
        "print(\"-\" * 20)\n",
        "\n",
        "# 9. Transpose the 2D array and print the result.\n",
        "transposed_array = array_to_transpose.T\n",
        "print(\"Transposed array:\")\n",
        "print(transposed_array)"
      ],
      "execution_count": 6,
      "outputs": [
        {
          "output_type": "stream",
          "name": "stdout",
          "text": [
            "Original 1D array:\n",
            "[ 0  1  2  3  4  5  6  7  8  9 10 11]\n",
            "--------------------\n",
            "Reshaped 2D array (3x4):\n",
            "[[ 0  1  2  3]\n",
            " [ 4  5  6  7]\n",
            " [ 8  9 10 11]]\n",
            "--------------------\n",
            "Array for stacking 1:\n",
            "[[1 2 3]\n",
            " [4 5 6]]\n",
            "\n",
            "Array for stacking 2:\n",
            "[[ 7  8  9]\n",
            " [10 11 12]]\n",
            "--------------------\n",
            "Vertically stacked array:\n",
            "[[ 1  2  3]\n",
            " [ 4  5  6]\n",
            " [ 7  8  9]\n",
            " [10 11 12]]\n",
            "--------------------\n",
            "Horizontally stacked array:\n",
            "[[ 1  2  3  7  8  9]\n",
            " [ 4  5  6 10 11 12]]\n",
            "--------------------\n",
            "Array to split:\n",
            "[[ 0  1  2  3]\n",
            " [ 4  5  6  7]\n",
            " [ 8  9 10 11]\n",
            " [12 13 14 15]]\n",
            "--------------------\n",
            "Array split into 4 parts along rows:\n",
            "Part 1:\n",
            "[[0 1 2 3]]\n",
            "Part 2:\n",
            "[[4 5 6 7]]\n",
            "Part 3:\n",
            "[[ 8  9 10 11]]\n",
            "Part 4:\n",
            "[[12 13 14 15]]\n",
            "--------------------\n",
            "Array split into 2 parts along columns:\n",
            "Part 1:\n",
            "[[ 0  1]\n",
            " [ 4  5]\n",
            " [ 8  9]\n",
            " [12 13]]\n",
            "Part 2:\n",
            "[[ 2  3]\n",
            " [ 6  7]\n",
            " [10 11]\n",
            " [14 15]]\n",
            "--------------------\n",
            "Array to transpose:\n",
            "[[1 2 3]\n",
            " [4 5 6]]\n",
            "--------------------\n",
            "Transposed array:\n",
            "[[1 4]\n",
            " [2 5]\n",
            " [3 6]]\n"
          ]
        }
      ]
    },
    {
      "cell_type": "markdown",
      "metadata": {
        "id": "4ffcb2cc"
      },
      "source": [
        "## Linear algebra operations\n",
        "\n",
        "### Subtask:\n",
        "Introduce basic linear algebra operations available in NumPy (e.g., dot product, matrix multiplication, solving linear equations).\n"
      ]
    },
    {
      "cell_type": "markdown",
      "metadata": {
        "id": "0ddb23c7"
      },
      "source": [
        "**Reasoning**:\n",
        "The subtask requires demonstrating basic linear algebra operations using NumPy. This involves creating matrices, performing dot product and matrix multiplication, and solving a linear system. These operations can be grouped into a single code block for clarity and efficiency.\n",
        "\n"
      ]
    },
    {
      "cell_type": "code",
      "metadata": {
        "colab": {
          "base_uri": "https://localhost:8080/"
        },
        "id": "f1515f23",
        "outputId": "2a4d910f-e87e-4d2e-ab14-6e886f70ef8c"
      },
      "source": [
        "# 1. Create two sample NumPy arrays representing matrices suitable for matrix multiplication.\n",
        "matrix1 = np.array([[1, 2], [3, 4]])\n",
        "matrix2 = np.array([[5, 6], [7, 8]])\n",
        "print(\"Matrix 1:\")\n",
        "print(matrix1)\n",
        "print(\"\\nMatrix 2:\")\n",
        "print(matrix2)\n",
        "print(\"-\" * 20)\n",
        "\n",
        "# 2. Perform and print the result of the dot product of the two arrays using np.dot().\n",
        "# For 2D arrays (matrices), np.dot is matrix multiplication.\n",
        "dot_product_result = np.dot(matrix1, matrix2)\n",
        "print(\"Dot product (matrix multiplication) using np.dot():\")\n",
        "print(dot_product_result)\n",
        "print(\"-\" * 20)\n",
        "\n",
        "# 3. Perform and print the result of matrix multiplication of the two arrays using the @ operator or np.matmul().\n",
        "# Using the @ operator (preferred for matrix multiplication in Python 3.5+)\n",
        "matrix_multiplication_result_at = matrix1 @ matrix2\n",
        "print(\"Matrix multiplication using the @ operator:\")\n",
        "print(matrix_multiplication_result_at)\n",
        "\n",
        "# Using np.matmul()\n",
        "matrix_multiplication_result_matmul = np.matmul(matrix1, matrix2)\n",
        "print(\"\\nMatrix multiplication using np.matmul():\")\n",
        "print(matrix_multiplication_result_matmul)\n",
        "print(\"-\" * 20)\n",
        "\n",
        "# 4. Create a square NumPy array representing a matrix and a 1D NumPy array representing a vector for demonstrating solving a linear system.\n",
        "# Consider the linear system Ax = b, where A is the square_matrix and b is the vector.\n",
        "square_matrix = np.array([[3, 1], [1, 2]])\n",
        "vector = np.array([9, 8])\n",
        "print(\"Square matrix (A):\")\n",
        "print(square_matrix)\n",
        "print(\"\\nVector (b):\")\n",
        "print(vector)\n",
        "print(\"-\" * 20)\n",
        "\n",
        "# 5. Solve the linear system using np.linalg.solve() and print the solution vector.\n",
        "# This solves for x in the equation Ax = b\n",
        "solution_vector = np.linalg.solve(square_matrix, vector)\n",
        "print(\"Solution vector (x) for Ax = b using np.linalg.solve():\")\n",
        "print(solution_vector)"
      ],
      "execution_count": 7,
      "outputs": [
        {
          "output_type": "stream",
          "name": "stdout",
          "text": [
            "Matrix 1:\n",
            "[[1 2]\n",
            " [3 4]]\n",
            "\n",
            "Matrix 2:\n",
            "[[5 6]\n",
            " [7 8]]\n",
            "--------------------\n",
            "Dot product (matrix multiplication) using np.dot():\n",
            "[[19 22]\n",
            " [43 50]]\n",
            "--------------------\n",
            "Matrix multiplication using the @ operator:\n",
            "[[19 22]\n",
            " [43 50]]\n",
            "\n",
            "Matrix multiplication using np.matmul():\n",
            "[[19 22]\n",
            " [43 50]]\n",
            "--------------------\n",
            "Square matrix (A):\n",
            "[[3 1]\n",
            " [1 2]]\n",
            "\n",
            "Vector (b):\n",
            "[9 8]\n",
            "--------------------\n",
            "Solution vector (x) for Ax = b using np.linalg.solve():\n",
            "[2. 3.]\n"
          ]
        }
      ]
    }
  ]
}